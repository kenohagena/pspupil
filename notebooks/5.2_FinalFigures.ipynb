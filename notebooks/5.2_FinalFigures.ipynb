{
 "cells": [
  {
   "cell_type": "code",
   "execution_count": 1,
   "metadata": {},
   "outputs": [],
   "source": [
    "import numpy as np\n",
    "import pandas as pd\n",
    "import matplotlib.pyplot as plt\n",
    "from pyedfread import edf\n",
    "import pickle\n",
    "from glob import glob\n",
    "from os.path import join\n",
    "%matplotlib inline\n",
    "import seaborn as sns\n",
    "from scipy import signal\n",
    "from scipy import interpolate\n",
    "#from PSPupil import pupil_preprocess as psp\n",
    "#from PSPupil import PupilPreprocess as PS\n",
    "from PSPupil import Preprocessing as PS\n",
    "from PSPupil import dataset as dt\n",
    "\n",
    "from scipy import signal\n",
    "import mne\n",
    "from scipy.stats import ttest_ind, linregress, f_oneway#, tukey_hsd\n",
    "from scipy.optimize import curve_fit\n",
    "import svgutils.transform as sg\n",
    "from decim.adjuvant import slurm_submit as slu\n",
    "import matplotlib.colors\n",
    "import itertools\n",
    "import scipy\n",
    "\n",
    "\n",
    "\n",
    "def smaller_than(value):\n",
    "    logs=np.append(np.logspace(-15, 1, 17), .05)\n",
    "    sorteds=np.sort(np.append(logs, value))\n",
    "    index=np.where(sorteds==value)[0]\n",
    "    return sorteds[index+1][0]\n",
    "\n",
    "def p_annot(p_value):\n",
    "    if p_value < 0.01:\n",
    "        text = 'p <{0}'.format(smaller_than(p_value))\n",
    "    else:\n",
    "        text = 'p= %.2f' % p_value\n",
    "    \n",
    "    if p_value<0.05:\n",
    "        bold = 'bold'\n",
    "    else: \n",
    "        bold = 'normal'\n",
    "    return text, bold\n",
    "        \n",
    "\n",
    "def func_powerlaw(x, m, c, c0):\n",
    "    return c0 + x**m * c\n",
    "\n",
    "def permutation_cluster_test(x1, x2):\n",
    "    f, clusters, pvalues, h0=mne.stats.permutation_cluster_test([x1,x2],\n",
    "                                                                     threshold=dict(start=0, step=0.2))\n",
    "    return pvalues\n",
    "\n",
    "def rgb_to_hex(r, g, b):\n",
    "    return '#{:02x}{:02x}{:02x}'.format(r, g, b)\n",
    "\n",
    "\n",
    "def show_p_statistic(yticks):\n",
    "    ylim = yticks[1] + 2/5 * (yticks[1] - yticks[0])\n",
    "    first=4/5 * (ylim - yticks[1]) + yticks[1]\n",
    "    third=2/5 * (ylim - yticks[1]) + yticks[1]\n",
    "    offset=(first-yticks[0])/25\n",
    "    return ylim, first, third, offset\n",
    "\n",
    "\n",
    "edition = '/Volumes/psp_data/PSP/Pupil_Preprocessed_2023-12'\n",
    "slu.mkdir_p(join(edition, 'PowerFrequencies'))\n",
    "slu.mkdir_p(join(edition, 'Figures'))\n"
   ]
  },
  {
   "cell_type": "markdown",
   "metadata": {},
   "source": [
    "### Script version with 'Pupil_Preprocessed_2023-12'\n",
    "- i.e. fooof included, but still z-scored"
   ]
  },
  {
   "cell_type": "code",
   "execution_count": 2,
   "metadata": {},
   "outputs": [],
   "source": [
    "#Plotting parameters\n",
    "palette = sns.color_palette(\"Paired\")\n",
    "\n",
    "'''\n",
    "baseline_color = palette[4]\n",
    "followup_color = palette[5]\n",
    "ips_color = palette[0]\n",
    "control_color = palette[2]\n",
    "r = rgb_to_hex(196, 98, 74)\n",
    "ips_color = rgb_to_hex(123, 118, 19)\n",
    "control_color = rgb_to_hex(228, 193, 91)\n",
    "baseline_color = '#F0746E'\n",
    "follow_color = baseline_color\n",
    "ips_color = '#7CCBA2'\n",
    "control_color = '#FCDE9C'\n",
    "'''\n",
    "\n",
    "\n",
    "\n",
    "colorcycler=[\"#E69F00\", \"#56B4E9\", \"#009E73\", \"#0072B2\", \"#D55E00\", \"#CC79A7\", \"#F0E442\"]\n",
    "linecycler=[\"-\", \"--\", \"-.\", \":\", \"-\", \"--\", \"-.\"]\n",
    "\n",
    "\n",
    "baseline_color = 'tab:red'\n",
    "follow_color = baseline_color\n",
    "ips_color = 'tab:purple'\n",
    "control_color = 'tab:orange'\n",
    "\n",
    "sns.set(style='ticks')\n",
    "sns.set(style='ticks',font='HelveticaNeue', font_scale=1, rc={\n",
    "    'axes.labelsize': 6,\n",
    "    'axes.titlesize': 6,\n",
    "    'xtick.labelsize': 6,\n",
    "    'ytick.labelsize': 6,\n",
    "    'legend.fontsize': 6,\n",
    "    'axes.linewidth': .5,\n",
    "    'xtick.major.width': .5,\n",
    "    'ytick.major.width': .5,\n",
    "        'xtick.minor.width': .5,\n",
    "    'ytick.minor.width': .5,\n",
    "    'ytick.major.pad': 0,\n",
    "    'ytick.minor.pad': 1.0,\n",
    "    'xtick.major.pad': 1.0,\n",
    "    'xtick.minor.pad': 1.0,\n",
    "    'axes.labelpad': 0,\n",
    "    \"xtick.major.size\":2,\n",
    "    \"xtick.minor.size\":1,\n",
    "    \"ytick.major.size\":2,\n",
    "    \"ytick.minor.size\":1\n",
    "})\n",
    "\n",
    "\n",
    "psize=4\n",
    "line_width_p = .4\n",
    "scatter_marker = 16\n",
    "scatter_alpha=.5\n",
    "\n",
    "line_width_b = .5\n",
    "\n",
    "lw_power1 = 1.5\n",
    "lw_power = 1"
   ]
  },
  {
   "cell_type": "markdown",
   "metadata": {},
   "source": [
    "## 1. Power Spectra ALl groups main (Fig 1A)"
   ]
  },
  {
   "cell_type": "code",
   "execution_count": 21,
   "metadata": {},
   "outputs": [
    {
     "data": {
      "text/plain": [
       "<matplotlib.legend.Legend at 0x12b14fdd8>"
      ]
     },
     "execution_count": 21,
     "metadata": {},
     "output_type": "execute_result"
    },
    {
     "data": {
      "image/png": "[encoded data removed]",
      "text/plain": [
       "<Figure size 252x144 with 1 Axes>"
      ]
     },
     "metadata": {},
     "output_type": "display_data"
    }
   ],
   "source": [
    "# data for plotting: \n",
    "popt = np.load(join(edition, 'Figures', 'data', 'popt.npy')) \n",
    "auc_x = np.load(join(edition, 'Figures', 'data', 'auc_x.npy')) \n",
    "pvals_psp_pd = np.load(join(edition, 'Figures', 'data', 'pvals_psp_pd.npy')) \n",
    "permut_x = np.load(join(edition, 'Figures', 'data', 'permut_x.npy')) \n",
    "\n",
    "\n",
    "psp_baseline = pd.read_hdf(join(edition, 'Figures', 'data', 'psp_baseline.hdf'), \n",
    "                           key = 'data') \n",
    "pd_fpower_avg = pd.read_hdf(join(edition, 'Figures', 'data', 'pd_fpower_avg.hdf'), \n",
    "                            key = 'data') \n",
    "ctrl_fpower_avg = pd.read_hdf(join(edition, 'Figures', 'data', 'ctrl_fpower_avg.hdf'), \n",
    "                              key = 'data') \n",
    "\n",
    "f, ax = plt.subplots(figsize=(3.5, 2))\n",
    "f.suptitle('')\n",
    "ci=95\n",
    "\n",
    "\n",
    "stacked = pd_fpower_avg.drop(['session'], axis=1).unstack().reset_index()\n",
    "plot = sns.lineplot(data= stacked, x='level_0', y=0, ci=ci, color=ips_color, lw=0, label=None, alpha=1, dashes=[(2,2)])\n",
    "plt.plot(stacked.groupby('level_0').mean().index, stacked.groupby('level_0').mean().values, label='PD', linewidth=lw_power1, color = ips_color, linestyle=linecycler[1])\n",
    "\n",
    "\n",
    "stacked = ctrl_fpower_avg.drop(['session'], axis=1).unstack().reset_index()\n",
    "plot = sns.lineplot(data= stacked, x='level_0', y=0, ci=ci, color=control_color, lw=0, label=None, alpha=1, dashes=linecycler[2])\n",
    "plt.plot(stacked.groupby('level_0').mean().index, stacked.groupby('level_0').mean().values, label='Controls', linewidth=lw_power1, color = control_color, linestyle=linecycler[2])\n",
    "\n",
    "\n",
    "stacked = psp_baseline.drop(['session'], axis=1).unstack().reset_index()\n",
    "plot = sns.lineplot(data= stacked, x='level_0', y=0, ci=ci, color=baseline_color, lw=0, label=None, alpha=1, dashes=linecycler[0])\n",
    "plt.plot(stacked.groupby('level_0').mean().index, stacked.groupby('level_0').mean().values, label='PSP', linewidth=lw_power1, color = baseline_color, linestyle=linecycler[0])\n",
    "\n",
    "\n",
    "plot.set(xscale='log', yscale='log')\n",
    "plot.set(xlim = (1/32, 1), ylim=(.01, 10))\n",
    "ax.set(xlabel='Frequency (Hz)',\n",
    "      ylabel='Power',\n",
    "      xticks=[1/32,1/16, 1/8, 1/4, 1/2, 1],\n",
    "      xticklabels=['1/32','1/16', '1/8', '1/4', '1/2', '1'])\n",
    "sns.despine()\n",
    "plt.plot(auc_x, func_powerlaw(auc_x, *popt), color='black', linestyle='--', lw=lw_power)\n",
    "\n",
    "\n",
    "#plt.scatter(permut_x[pvals_psp_pd<0.05], .05, color='black', marker='*')\n",
    "#plt.scatter(permut_x[pvals_psp_c<0.05].values, .05, color='grey', marker='*')\n",
    "#plt.scatter(permut_x[pvals_pd_cont<0.05].values, .05, color='lightgrey', marker='*')\n",
    "\n",
    "\n",
    "\n",
    "ax.legend(bbox_to_anchor=(1.1, 1.05), frameon=False)\n",
    "\n",
    "#f.tight_layout()\n",
    "f.savefig(join(edition, 'Figures', 'PowerSpectra_all_groups.png'), dpi=600)\n"
   ]
  },
  {
   "cell_type": "markdown",
   "metadata": {},
   "source": [
    "## 2.1 Deprecated:AUC/CoV/F/Offset no FOOV (FIG 1B OLD)"
   ]
  },
  {
   "cell_type": "code",
   "execution_count": 64,
   "metadata": {
    "jupyter": {
     "source_hidden": true
    }
   },
   "outputs": [
    {
     "data": {
      "image/png": "[encoded data removed]",
      "text/plain": [
       "<Figure size 252x144 with 4 Axes>"
      ]
     },
     "metadata": {},
     "output_type": "display_data"
    }
   ],
   "source": [
    "## data\n",
    "df = pd.read_hdf(join(edition, 'Figures', 'data', 'CoV.hdf'), key='data')\n",
    "psp_baseline_auc = pd.read_hdf(join(edition, 'Figures', 'data', 'psp_baseline_auc.hdf'), key='data')\n",
    "pd_auc = pd.read_hdf(join(edition, 'Figures', 'data', 'pd_auc.hdf'), key='data')\n",
    "ctrl_auc = pd.read_hdf(join(edition, 'Figures', 'data', 'ctrl_auc.hdf'), key='data')\n",
    "hip = pd.read_hdf(join(edition, 'Figures', 'data', 'hip.hdf'), key= 'data')\n",
    "hip_limit = .9\n",
    "\n",
    "f, ax = plt.subplots(2, 2, figsize = (3.5, 2))\n",
    "\n",
    "#baseline_color='darkgrey'\n",
    "#ips_color = 'darkgrey'\n",
    "#control_color='darkgrey'\n",
    "\n",
    "# Top LEFT - COV\n",
    "\n",
    "\n",
    "\n",
    "yticks = [0, 15]\n",
    "ylim, first, third, offset = show_p_statistic(yticks)\n",
    "\n",
    "\n",
    "p = df.loc[(df.group == 'PSP')&(df.session == 'Baseline')].CoV.values\n",
    "i= df.loc[df.group == 'PD'].CoV.values\n",
    "c= df.loc[df.group == 'Controls'].CoV.values\n",
    "\n",
    "ax[0,0].scatter(np.zeros(p.shape), p, color=baseline_color, s = scatter_marker, alpha = scatter_alpha)\n",
    "ax[0,0].scatter(np.ones(i.shape), i, color=ips_color, s = scatter_marker, alpha = scatter_alpha)\n",
    "ax[0,0].scatter(2*np.ones(c.shape), c, color=control_color, s = scatter_marker, alpha = scatter_alpha)\n",
    "\n",
    "ax[0,0].boxplot(p, positions=[0], widths=.5, boxprops = dict(linewidth=line_width_b), whiskerprops = dict(linewidth=line_width_b), capprops = dict(linewidth=line_width_b),\n",
    "           medianprops = dict(linestyle='-', linewidth=line_width_b, color='black'), showfliers=False, whis=(0, 100))\n",
    "\n",
    "ax[0,0].boxplot(i, positions=[1], widths=.5, boxprops = dict(linewidth=line_width_b), whiskerprops = dict(linewidth=line_width_b), capprops = dict(linewidth=line_width_b),\n",
    "           medianprops = dict(linestyle='-', linewidth=line_width_b, color='black'), showfliers=False, whis=(0, 100))\n",
    "\n",
    "ax[0,0].boxplot(c, positions=[2], widths=.5, boxprops = dict(linewidth=line_width_b), whiskerprops = dict(linewidth=line_width_b), capprops = dict(linewidth=line_width_b),\n",
    "           medianprops = dict(linestyle='-', linewidth=line_width_b, color='black'), showfliers=False, whis=(0, 100))\n",
    "\n",
    "ax[0,0].set(xlabel='',\n",
    "      xticks=[0,1, 2],\n",
    "      xticklabels=['PSP',\n",
    "                  'PD', 'Controls'],\n",
    "      ylabel='CoV',\n",
    "     ylim=[yticks[0], ylim],\n",
    "      yticks=yticks)\n",
    "\n",
    "ax[0,0].vlines(0, ymin=first-offset, ymax=first+offset, lw=line_width_p)\n",
    "ax[0,0].vlines(2, ymin=first-offset, ymax=first+offset, lw=line_width_p)\n",
    "ax[0,0].plot((0, 2), (first, first), color='black', lw=line_width_p)\n",
    "ax[0,0].annotate(p_annot(ttest_ind(p,c)[1])[0], weight = p_annot(ttest_ind(c,i)[1])[1],\n",
    "                 xy=(1,first), fontsize=psize, ha='center', va='center', bbox=dict(boxstyle='round,pad=0.1', fc='white', alpha=1))\n",
    "\n",
    "ax[0,0].vlines(0, ymin=third-offset, ymax=third+offset, lw=line_width_p)\n",
    "ax[0,0].vlines(1, ymin=third-offset, ymax=third+offset, lw=line_width_p)\n",
    "ax[0,0].plot((0, 1), (third, third), color='black', lw=line_width_p)\n",
    "ax[0,0].annotate(p_annot(ttest_ind(p,i)[1])[0], weight = p_annot(ttest_ind(c,i)[1])[1], xy=(.5,third), fontsize=psize, ha='center', va='center', bbox=dict(boxstyle='round,pad=0.1', fc='white', alpha=1))\n",
    "\n",
    "ax[0,0].vlines(1, ymin=third-offset, ymax=third+offset, lw=line_width_p)\n",
    "ax[0,0].vlines(2, ymin=third-offset, ymax=third+offset, lw=line_width_p)\n",
    "ax[0,0].plot((1, 2), (third, third), color='black', lw=line_width_p)\n",
    "ax[0,0].annotate(p_annot(ttest_ind(c,i)[1])[0], weight = p_annot(ttest_ind(c,i)[1])[1], \n",
    "                 xy=(1.5,third), fontsize=psize, ha='center', va='center', bbox=dict(boxstyle='round,pad=0.1', fc='white', alpha=1))\n",
    "\n",
    "\n",
    "\n",
    "# TOP RIGHT - AUC\n",
    "\n",
    "\n",
    "\n",
    "p = psp_baseline_auc.auc.values\n",
    "i=pd_auc.auc.values\n",
    "c = ctrl_auc.auc.values\n",
    "\n",
    "yticks = [-.3, .3]\n",
    "ylim, first, third, offset = show_p_statistic(yticks)\n",
    "\n",
    "ax[0,1].scatter(np.zeros(p.shape), p, color=baseline_color, label='PSP', s=scatter_marker, alpha = scatter_alpha)\n",
    "ax[0,1].scatter(np.ones(i.shape), i, color=ips_color, label = 'PD', s=scatter_marker, alpha = scatter_alpha)\n",
    "ax[0,1].scatter(np.ones(c.shape)*2, c, color=control_color, label = 'CTRL', s=scatter_marker, alpha = scatter_alpha)\n",
    "\n",
    "ax[0,1].boxplot(p, positions=[0], widths=.5, boxprops = dict(linewidth=line_width_b), whiskerprops = dict(linewidth=line_width_b), capprops = dict(linewidth=line_width_b),\n",
    "           medianprops = dict(linestyle='-', linewidth=line_width_b, color='black'), showfliers=False, whis=(0, 100))\n",
    "\n",
    "ax[0,1].boxplot(i, positions=[1], widths=.5, boxprops = dict(linewidth=line_width_b), whiskerprops = dict(linewidth=line_width_b), capprops = dict(linewidth=line_width_b),\n",
    "           medianprops = dict(linestyle='-', linewidth=line_width_b, color='black'), showfliers=False, whis=(0, 100))\n",
    "\n",
    "ax[0,1].boxplot(c, positions=[2], widths=.5, boxprops = dict(linewidth=line_width_b), whiskerprops = dict(linewidth=line_width_b), capprops = dict(linewidth=line_width_b),\n",
    "           medianprops = dict(linestyle='-', linewidth=line_width_b, color='black'), showfliers=False, whis=(0, 100))\n",
    "\n",
    "ax[0,1].set(xlabel='',\n",
    "      xticks=[0,1, 2],\n",
    "      xticklabels=['PSP',\n",
    "                  'PD',\n",
    "                  'Controls'],\n",
    "      ylabel='AUC',\n",
    "       ylim=[yticks[0], ylim],\n",
    "      yticks=yticks)\n",
    "\n",
    "\n",
    "ax[0,1].vlines(0, ymin=first-offset, ymax=first+offset, lw=line_width_p)\n",
    "ax[0,1].vlines(2, ymin=first-offset, ymax=first+offset, lw=line_width_p)\n",
    "ax[0,1].plot((0, 2), (first, first), color='black', lw=line_width_p)\n",
    "ax[0,1].annotate(p_annot(ttest_ind(p,c)[1])[0], weight = p_annot(ttest_ind(c,i)[1])[1], xy=(1,first), fontsize=psize, ha='center', va='center', bbox=dict(boxstyle='round,pad=0.1', fc='white', alpha=1))\n",
    "\n",
    "ax[0,1].vlines(0, ymin=third-offset, ymax=third+offset, lw=line_width_p)\n",
    "ax[0,1].vlines(1, ymin=third-offset, ymax=third+offset, lw=line_width_p)\n",
    "ax[0,1].plot((0, 1), (third, third), color='black', lw=line_width_p)\n",
    "ax[0,1].annotate(p_annot(ttest_ind(p,i)[1])[0], weight = p_annot(ttest_ind(c,i)[1])[1], xy=(.5,third), fontsize=psize, ha='center', va='center', bbox=dict(boxstyle='round,pad=0.1', fc='white', alpha=1))\n",
    "\n",
    "ax[0,1].vlines(1, ymin=third-offset, ymax=third+offset, lw=line_width_p)\n",
    "ax[0,1].vlines(2, ymin=third-offset, ymax=third+offset, lw=line_width_p)\n",
    "ax[0,1].plot((1, 2), (third, third), color='black', lw=line_width_p)\n",
    "ax[0,1].annotate(p_annot(ttest_ind(c,i)[1])[0], weight = p_annot(ttest_ind(c,i)[1])[1], xy=(1.5,third), fontsize=psize, ha='center', va='center', bbox=dict(boxstyle='round,pad=0.1', fc='white', alpha=1))\n",
    "\n",
    "\n",
    "\n",
    "#BOTTOM LEFT - FREQUENCY\n",
    "\n",
    "df = hip.loc[hip.frequency<hip_limit]\n",
    "p = df.loc[df.group == 'baseline'].frequency.values\n",
    "i = df.loc[df.group == 'ips'].frequency.values\n",
    "c = df.loc[df.group == 'control'].frequency.values\n",
    "\n",
    "yticks = [0, .6]\n",
    "ylim, first, third, offset = show_p_statistic(yticks)\n",
    "\n",
    "\n",
    "\n",
    "ax[1,0].scatter(np.zeros(p.shape), p, color=baseline_color, label='PSP', s=scatter_marker, alpha = scatter_alpha)\n",
    "ax[1,0].scatter(np.ones(i.shape), i, color=ips_color, label = 'PD', s=scatter_marker, alpha = scatter_alpha)\n",
    "ax[1,0].scatter(np.ones(c.shape)*2, c, color=control_color, label = 'CTRL', s=scatter_marker, alpha = scatter_alpha)\n",
    "\n",
    "\n",
    "ax[1,0].boxplot(p, positions=[0],widths=.5, boxprops = dict(linewidth=line_width_b), whiskerprops = dict(linewidth=line_width_b), capprops = dict(linewidth=line_width_b),\n",
    "           medianprops = dict(linestyle='-', linewidth=line_width_b, color='black'), showfliers=False, whis=(0, 100))\n",
    "\n",
    "ax[1,0].boxplot(i, positions=[1], widths=.5, boxprops = dict(linewidth=line_width_b), whiskerprops = dict(linewidth=line_width_b), capprops = dict(linewidth=line_width_b),\n",
    "           medianprops = dict(linestyle='-', linewidth=line_width_b, color='black'), showfliers=False, whis=(0, 100))\n",
    "\n",
    "ax[1,0].boxplot(c, positions=[2], widths=.5, boxprops = dict(linewidth=line_width_b), whiskerprops = dict(linewidth=line_width_b), capprops = dict(linewidth=line_width_b),\n",
    "           medianprops = dict(linestyle='-', linewidth=line_width_b, color='black'), showfliers=False, whis=(0, 100))\n",
    "\n",
    "ax[1,0].set(xlabel='',\n",
    "      xticks=[0,1, 2],\n",
    "      xticklabels=['PSP', 'PD',\n",
    "                  'Controls'],\n",
    "      ylabel='Frequency (Hz)',\n",
    "       ylim=[yticks[0], ylim],\n",
    "      yticks=yticks)\n",
    "\n",
    "ax[1,0].vlines(0, ymin=first-offset, ymax=first+offset, lw=line_width_p)\n",
    "ax[1,0].vlines(2, ymin=first-offset, ymax=first+offset, lw=line_width_p)\n",
    "ax[1,0].plot((0, 2), (first, first), color='black', lw=line_width_p)\n",
    "ax[1,0].annotate(p_annot(ttest_ind(p,c)[1])[0], weight = p_annot(ttest_ind(c,i)[1])[1], xy=(1,first), fontsize=psize, ha='center', va='center', bbox=dict(boxstyle='round,pad=0.1', fc='white', alpha=1))\n",
    "\n",
    "ax[1,0].vlines(0, ymin=third-offset, ymax=third+offset, lw=line_width_p)\n",
    "ax[1,0].vlines(1, ymin=third-offset, ymax=third+offset, lw=line_width_p)\n",
    "ax[1,0].plot((0, 1), (third, third), color='black', lw=line_width_p)\n",
    "ax[1,0].annotate(p_annot(ttest_ind(p,i)[1])[0], weight = p_annot(ttest_ind(c,i)[1])[1], xy=(.5,third), fontsize=psize, ha='center', va='center', bbox=dict(boxstyle='round,pad=0.1', fc='white', alpha=1))\n",
    "\n",
    "ax[1,0].vlines(1, ymin=third-offset, ymax=third+offset, lw=line_width_p)\n",
    "ax[1,0].vlines(2, ymin=third-offset, ymax=third+offset, lw=line_width_p)\n",
    "ax[1,0].plot((1, 2), (third, third), color='black', lw=line_width_p)\n",
    "ax[1,0].annotate(p_annot(ttest_ind(c,i)[1])[0], weight = p_annot(ttest_ind(c,i)[1])[1], xy=(1.5,third), fontsize=psize, ha='center', va='center', bbox=dict(boxstyle='round,pad=0.1', fc='white', alpha=1))\n",
    "\n",
    "\n",
    "\n",
    "#BOTTOM RIGHT - MAGNITUDE\n",
    "\n",
    "yticks = [0, 5]\n",
    "ylim, first, third, offset = show_p_statistic(yticks)\n",
    "\n",
    "df = hip.loc[hip.frequency<hip_limit].drop('hippus_power', axis=1)\n",
    "df = df.dropna()\n",
    "p = df.loc[df.group == 'baseline'].offset.values\n",
    "i = df.loc[df.group == 'ips'].offset.values\n",
    "c = df.loc[df.group == 'control'].offset.values\n",
    "\n",
    "\n",
    "ax[1,1].scatter(np.zeros(p.shape), p, color=baseline_color, label='PSP', s=scatter_marker, alpha = scatter_alpha)\n",
    "ax[1,1].scatter(np.ones(i.shape), i, color=ips_color, label = 'PD', s=scatter_marker, alpha = scatter_alpha)\n",
    "ax[1,1].scatter(np.ones(c.shape)*2, c, color=control_color, label = 'CTRL', s=scatter_marker, alpha = scatter_alpha)\n",
    "\n",
    "\n",
    "ax[1,1].boxplot(p, positions=[0], widths=.5, boxprops = dict(linewidth=line_width_b), whiskerprops = dict(linewidth=line_width_b), capprops = dict(linewidth=line_width_b),\n",
    "           medianprops = dict(linestyle='-', linewidth=line_width_b, color='black'), showfliers=False, whis=(0, 100))\n",
    "\n",
    "ax[1,1].boxplot(i, positions=[1], widths=.5, boxprops = dict(linewidth=line_width_b), whiskerprops = dict(linewidth=line_width_b), capprops = dict(linewidth=line_width_b),\n",
    "           medianprops = dict(linestyle='-', linewidth=line_width_b, color='black'), showfliers=False, whis=(0, 100))\n",
    "\n",
    "ax[1,1].boxplot(c, positions=[2], widths=.5, boxprops = dict(linewidth=line_width_b), whiskerprops = dict(linewidth=line_width_b), capprops = dict(linewidth=line_width_b),\n",
    "           medianprops = dict(linestyle='-', linewidth=line_width_b, color='black'), showfliers=False, whis=(0, 100))\n",
    "\n",
    "ax[1,1].set(xlabel='',\n",
    "      xticks=[0,1, 2],\n",
    "      xticklabels=['PSP', 'PD',\n",
    "                  'Controls'],\n",
    "      ylabel='''Hippus power''',\n",
    "       ylim=[yticks[0], ylim],\n",
    "      yticks=[0, 2, 4, 6])\n",
    "\n",
    "\n",
    "\n",
    "ax[1,1].vlines(0, ymin=first-offset, ymax=first+offset, lw=line_width_p)\n",
    "ax[1,1].vlines(2, ymin=first-offset, ymax=first+offset, lw=line_width_p)\n",
    "ax[1,1].plot((0, 2), (first, first), color='black', lw=line_width_p)\n",
    "ax[1,1].annotate(p_annot(ttest_ind(p,c)[1])[0], weight = p_annot(ttest_ind(c,i)[1])[1], xy=(1,first), fontsize=psize, ha='center', va='center', bbox=dict(boxstyle='round,pad=0.1', fc='white', alpha=1))\n",
    "\n",
    "ax[1,1].vlines(0, ymin=third-offset, ymax=third+offset, lw=line_width_p)\n",
    "ax[1,1].vlines(1, ymin=third-offset, ymax=third+offset, lw=line_width_p)\n",
    "ax[1,1].plot((0, 1), (third, third), color='black', lw=line_width_p)\n",
    "ax[1,1].annotate(p_annot(ttest_ind(p,i)[1])[0], weight = p_annot(ttest_ind(c,i)[1])[1], xy=(.5,third), fontsize=psize, ha='center', va='center', bbox=dict(boxstyle='round,pad=0.1', fc='white', alpha=1))\n",
    "\n",
    "\n",
    "ax[1,1].vlines(1, ymin=third-offset, ymax=third+offset, lw=line_width_p)\n",
    "ax[1,1].vlines(2, ymin=third-offset, ymax=third+offset, lw=line_width_p)\n",
    "ax[1,1].plot((1, 2), (third, third), color='black', lw=line_width_p)\n",
    "ax[1,1].annotate(p_annot(ttest_ind(c,i)[1])[0], weight = p_annot(ttest_ind(c,i)[1])[1], xy=(1.5,third), fontsize=psize, ha='center', va='center', bbox=dict(boxstyle='round,pad=0.1', fc='white', alpha=1))\n",
    "\n",
    "\n",
    "\n",
    "sns.despine(trim=True)\n",
    "f.tight_layout()\n",
    "\n",
    "\n",
    "f.savefig(join(edition, 'Figures', 'Pupil_metrics_all_groups.png'),  dpi=600)\n"
   ]
  },
  {
   "cell_type": "markdown",
   "metadata": {},
   "source": [
    "## 2.2 NEW Pupil Metrics (incl FOOOF) -> Fig 1D "
   ]
  },
  {
   "cell_type": "code",
   "execution_count": 17,
   "metadata": {},
   "outputs": [
    {
     "data": {
      "image/png": "[encoded data removed]",
      "text/plain": [
       "<Figure size 540x90 with 6 Axes>"
      ]
     },
     "metadata": {},
     "output_type": "display_data"
    }
   ],
   "source": [
    "## data\n",
    "df = pd.read_hdf(join(edition, 'Figures', 'data', 'CoV.hdf'), key='data')\n",
    "psp_baseline_auc = pd.read_hdf(join(edition, 'Figures', 'data', 'psp_baseline_auc.hdf'), key='data')\n",
    "pd_auc = pd.read_hdf(join(edition, 'Figures', 'data', 'pd_auc.hdf'), key='data')\n",
    "ctrl_auc = pd.read_hdf(join(edition, 'Figures', 'data', 'ctrl_auc.hdf'), key='data')\n",
    "fooov = pd.read_hdf(join(edition, 'Figures', 'data', 'fooof_results.hdf'), key= 'data')\n",
    "\n",
    "\n",
    "def subplot(j, ylabel, yticks, data):\n",
    "    ylim, first, third, offset = show_p_statistic(yticks)\n",
    "    p=data[0]\n",
    "    i=data[1]\n",
    "    c=data[2]\n",
    "\n",
    "\n",
    "    ax[j].scatter(np.zeros(p.shape), p, color=baseline_color, label='PSP', s=scatter_marker, alpha = scatter_alpha)\n",
    "    ax[j].scatter(np.ones(i.shape), i, color=ips_color, label = 'PD', s=scatter_marker, alpha = scatter_alpha)\n",
    "    ax[j].scatter(np.ones(c.shape)*2, c, color=control_color, label = 'CTRL', s=scatter_marker, alpha = scatter_alpha)\n",
    "\n",
    "\n",
    "    ax[j].boxplot(p, positions=[0],widths=.5, boxprops = dict(linewidth=line_width_b), whiskerprops = dict(linewidth=line_width_b), capprops = dict(linewidth=line_width_b),\n",
    "               medianprops = dict(linestyle='-', linewidth=line_width_b, color='black'), showfliers=False, whis=(0, 100))\n",
    "\n",
    "    ax[j].boxplot(i, positions=[1], widths=.5, boxprops = dict(linewidth=line_width_b), whiskerprops = dict(linewidth=line_width_b), capprops = dict(linewidth=line_width_b),\n",
    "               medianprops = dict(linestyle='-', linewidth=line_width_b, color='black'), showfliers=False, whis=(0, 100))\n",
    "\n",
    "    ax[j].boxplot(c, positions=[2], widths=.5, boxprops = dict(linewidth=line_width_b), whiskerprops = dict(linewidth=line_width_b), capprops = dict(linewidth=line_width_b),\n",
    "               medianprops = dict(linestyle='-', linewidth=line_width_b, color='black'), showfliers=False, whis=(0, 100))\n",
    "\n",
    "    ax[j].set(xlabel='',\n",
    "          xticks=[0,1, 2],\n",
    "          xticklabels=['PSP', 'PD',\n",
    "                      'Controls'],\n",
    "          ylabel=ylabel,\n",
    "           ylim=[yticks[0], ylim],\n",
    "          yticks=yticks)\n",
    "\n",
    "    ax[j].vlines(0, ymin=first-offset, ymax=first+offset, lw=line_width_p)\n",
    "    ax[j].vlines(2, ymin=first-offset, ymax=first+offset, lw=line_width_p)\n",
    "    ax[j].plot((0, 2), (first, first), color='black', lw=line_width_p)\n",
    "    ax[j].annotate(p_annot(ttest_ind(p,c)[1])[0], weight = p_annot(ttest_ind(c,i)[1])[1], xy=(1,first), fontsize=psize, ha='center', va='center', bbox=dict(boxstyle='round,pad=0.1', fc='white', alpha=1))\n",
    "\n",
    "    ax[j].vlines(0, ymin=third-offset, ymax=third+offset, lw=line_width_p)\n",
    "    ax[j].vlines(1, ymin=third-offset, ymax=third+offset, lw=line_width_p)\n",
    "    ax[j].plot((0, 1), (third, third), color='black', lw=line_width_p)\n",
    "    ax[j].annotate(p_annot(ttest_ind(p,i)[1])[0], weight = p_annot(ttest_ind(c,i)[1])[1], xy=(.5,third), fontsize=psize, ha='center', va='center', bbox=dict(boxstyle='round,pad=0.1', fc='white', alpha=1))\n",
    "\n",
    "    ax[j].vlines(1, ymin=third-offset, ymax=third+offset, lw=line_width_p)\n",
    "    ax[j].vlines(2, ymin=third-offset, ymax=third+offset, lw=line_width_p)\n",
    "    ax[j].plot((1, 2), (third, third), color='black', lw=line_width_p)\n",
    "    ax[j].annotate(p_annot(ttest_ind(c,i)[1])[0], weight = p_annot(ttest_ind(c,i)[1])[1], xy=(1.5,third), fontsize=psize, ha='center', va='center', bbox=dict(boxstyle='round,pad=0.1', fc='white', alpha=1))\n",
    "\n",
    "    \n",
    "\n",
    "\n",
    "f, ax = plt.subplots(1, 6, figsize = (7.5, 1.25))\n",
    "\n",
    "# 1. Frequency\n",
    "df = fooov.loc[(fooov.session == 'Baseline')&(~fooov.peak1_CF.isnull())]\n",
    "p = df.loc[df.group == 'PSP'].peak1_CF.values\n",
    "i = df.loc[df.group == 'PD'].peak1_CF.values\n",
    "c = df.loc[df.group == 'Control'].peak1_CF.values\n",
    "subplot(j=0, yticks=[0, 0.9], ylabel = 'Frequency (Hz)', data = [p, i, c])\n",
    "\n",
    "# 2. power\n",
    "df = fooov.loc[(fooov.session == 'Baseline')&(~fooov.peak1_CF.isnull())]\n",
    "p = df.loc[df.group == 'PSP'].peak1_PW.values\n",
    "i = df.loc[df.group == 'PD'].peak1_PW.values\n",
    "c = df.loc[df.group == 'Control'].peak1_PW.values\n",
    "subplot(j=1, yticks=[0, 2], ylabel = 'Power', data = [p, i, c])\n",
    "\n",
    "# 3. Exponent\n",
    "df = fooov.loc[(fooov.session == 'Baseline')]\n",
    "p = df.loc[df.group == 'PSP'].aperiodic_exp.values\n",
    "i = df.loc[df.group == 'PD'].aperiodic_exp.values\n",
    "c = df.loc[df.group == 'Control'].aperiodic_exp.values\n",
    "subplot(j=2, yticks=[1, 5], ylabel = 'Exponent', data = [p, i, c])\n",
    "\n",
    "# 3. Offset\n",
    "df = fooov.loc[(fooov.session == 'Baseline')]\n",
    "p = df.loc[df.group == 'PSP'].aperiodic_offset.values\n",
    "i = df.loc[df.group == 'PD'].aperiodic_offset.values\n",
    "c = df.loc[df.group == 'Control'].aperiodic_offset.values\n",
    "subplot(j=3, yticks=[-3, 0], ylabel = 'Offset', data = [p, i, c])\n",
    "\n",
    "\n",
    "# 5. CoV\n",
    "df = pd.read_hdf(join(edition, 'Figures', 'data', 'CoV.hdf'), key='data')\n",
    "p = df.loc[(df.group == 'PSP')&(df.session == 'Baseline')].CoV.values\n",
    "i= df.loc[df.group == 'PD'].CoV.values\n",
    "c= df.loc[df.group == 'Controls'].CoV.values\n",
    "subplot(j=4, yticks=[0, 15], ylabel = 'CoV', data = [p, i, c])\n",
    "\n",
    "\n",
    "# 6. AUC\n",
    "df = pd.read_hdf(join(edition, 'Figures', 'data', 'CoV.hdf'), key='data')\n",
    "p = psp_baseline_auc.auc.values\n",
    "i=pd_auc.auc.values\n",
    "c = ctrl_auc.auc.values\n",
    "subplot(j=5, yticks=[-.3, .3], ylabel = 'AUC', data = [p, i, c])\n",
    "\n",
    "\n",
    "sns.despine(trim=True)\n",
    "f.tight_layout(pad=.5, w_pad=0)\n",
    "\n",
    "f.savefig(join(edition, 'Figures', 'Pupil_metrics_all_groups_fooov.png'),  dpi=600)"
   ]
  },
  {
   "cell_type": "markdown",
   "metadata": {},
   "source": [
    "## 3. Follow-up vs. Baseline\n",
    "### 3.1 Spectra"
   ]
  },
  {
   "cell_type": "code",
   "execution_count": 77,
   "metadata": {
    "jupyter": {
     "source_hidden": true
    }
   },
   "outputs": [
    {
     "name": "stdout",
     "output_type": "stream",
     "text": [
      "['001' '003' '006' '007' '010' '012' '016' '018' '019' '020']\n"
     ]
    },
    {
     "data": {
      "image/png": "[encoded data removed]",
      "text/plain": [
       "<Figure size 126x96 with 1 Axes>"
      ]
     },
     "metadata": {},
     "output_type": "display_data"
    }
   ],
   "source": [
    "#data\n",
    "psp_followup = pd.read_hdf(join(edition, 'Figures', 'data', 'psp_followup.hdf'), key='data')\n",
    "subjects = np.load(join(edition, 'Figures', 'data', 'subjects.npy'), allow_pickle=True)\n",
    "\n",
    "print(subjects)\n",
    "\n",
    "baseline_color='black'\n",
    "follow_color='grey'\n",
    "\n",
    "f, ax = plt.subplots(figsize=(1/2*3.5, 2/3*2))\n",
    "ci=95\n",
    "\n",
    "stacked = psp_baseline.loc[subjects].drop(['session'], axis=1).unstack().reset_index()\n",
    "plot = sns.lineplot(data= stacked, x='level_0', y=0, ci=ci, color=baseline_color, lw=lw_power1, label='Baseline')\n",
    "\n",
    "stacked = psp_followup.loc[subjects].drop(['session'], axis=1).unstack().reset_index()\n",
    "plot = sns.lineplot(data= stacked, x='level_0', y=0, ci=ci, color=baseline_color, alpha=.5, lw=lw_power1, label='Followup')\n",
    "\n",
    "plot.set(xscale='log', yscale='log')\n",
    "plot.set(xlim = (1/32, 1), ylim=(.01, 10))\n",
    "ax.set(xlabel='',\n",
    "      ylabel='',\n",
    "      xticks=[1/32,1/16, 1/8, 1/4, 1/2, 1],\n",
    "      xticklabels=['1/32','1/16', '1/8', '1/4', '1/2', '1'])\n",
    "sns.despine()\n",
    "\n",
    "plt.plot(auc_x, func_powerlaw(auc_x, *popt), color='black', linestyle='--', lw=lw_power)\n",
    "# plt.plot(permut_x, ((pvals<.05)+1)*.02, color='black')\n",
    "\n",
    "ax.legend(bbox_to_anchor=(1.1, 1.05), frameon=False)\n",
    "\n",
    "#f.tight_layout()\n",
    "f.savefig(join(edition, 'Figures', 'PowerSpectra_FU.png'), dpi=600)\n",
    "\n",
    "\n",
    "\n",
    "\n"
   ]
  },
  {
   "cell_type": "markdown",
   "metadata": {},
   "source": [
    "### 3.2 Deprecated: Metrics (No FOOOV)"
   ]
  },
  {
   "cell_type": "code",
   "execution_count": 67,
   "metadata": {
    "jupyter": {
     "source_hidden": true
    }
   },
   "outputs": [
    {
     "data": {
      "image/png": "[encoded data removed]",
      "text/plain": [
       "<Figure size 336x96 with 4 Axes>"
      ]
     },
     "metadata": {},
     "output_type": "display_data"
    }
   ],
   "source": [
    "# Metrics FU vs. BL - OLD\n",
    "psp_followup_auc = pd.read_hdf(join(edition, 'Figures', 'data', 'psp_followup_auc.hdf'), key='data')\n",
    "hip = pd.read_hdf(join(edition, 'Figures', 'data', 'hip.hdf'), key= 'data')\n",
    "hip_limit = .9\n",
    "CoV = pd.read_hdf(join(edition, 'Figures', 'data', 'CoV.hdf'), key='data')\n",
    "subjects = np.load(join(edition, 'Figures', 'data', 'subjects.npy'), allow_pickle=True)\n",
    "\n",
    "\n",
    "\n",
    "f, ax = plt.subplots(1, 4, figsize = (4/3*3.5, 2/3*2))\n",
    "\n",
    "\n",
    "# COV\n",
    "\n",
    "## data\n",
    "df = pd.read_hdf(join(edition, 'Figures', 'data', 'CoV.hdf'), key='data')\n",
    "bl = CoV.loc[(CoV.group == 'PSP')&(CoV.session == 'Baseline')&CoV.subject.isin(subjects)].CoV.values\n",
    "fl = CoV.loc[(CoV.group == 'PSP')&(CoV.session == 'Followup')&CoV.subject.isin(subjects)].CoV.values\n",
    "\n",
    "yticks = [0, 10]\n",
    "ylim, first, third, offset = show_p_statistic(yticks)\n",
    "\n",
    "\n",
    "ax[0].scatter(np.zeros(bl.shape), bl, color=baseline_color, s = scatter_marker, alpha = scatter_alpha)\n",
    "ax[0].scatter(np.ones(fl.shape), fl, color=follow_color, s = scatter_marker, alpha = scatter_alpha)\n",
    "\n",
    "ax[0].boxplot(bl, positions=[0], widths=.5, boxprops = dict(linewidth=line_width_b), whiskerprops = dict(linewidth=line_width_b), capprops = dict(linewidth=line_width_b),\n",
    "           medianprops = dict(linestyle='-', linewidth=line_width_b, color='black'), showfliers=False, whis=(0, 100))\n",
    "\n",
    "ax[0].boxplot(fl, positions=[1], widths=.5, boxprops = dict(linewidth=line_width_b), whiskerprops = dict(linewidth=line_width_b), capprops = dict(linewidth=line_width_b),\n",
    "           medianprops = dict(linestyle='-', linewidth=line_width_b, color='black'), showfliers=False, whis=(0, 100))\n",
    "\n",
    "\n",
    "ax[0].set(xlabel='',\n",
    "      xticks=[0,1, 2],\n",
    "      xticklabels=['BL', 'FU'],\n",
    "      ylabel='CoV',\n",
    "     ylim=[yticks[0], ylim],\n",
    "      yticks=yticks)\n",
    "\n",
    "\n",
    "ax[0].vlines(0, ymin=third-offset, ymax=third+offset, lw=line_width_p)\n",
    "ax[0].vlines(1, ymin=third-offset, ymax=third+offset, lw=line_width_p)\n",
    "ax[0].plot((0, 1), (third, third), color='black', lw=line_width_p)\n",
    "ax[0].annotate(p_annot(ttest_ind(bl,fl)[1])[0], weight = p_annot(ttest_ind(bl, fl)[1])[1], xy=(.5,third), fontsize=psize, ha='center', va='center', bbox=dict(boxstyle='round,pad=0.1', fc='white', alpha=1))\n",
    "\n",
    "\n",
    "\n",
    "\n",
    "# AUC\n",
    "\n",
    "# load data \n",
    "bl = psp_baseline_auc.loc[psp_baseline_auc.subject.isin(subjects)].auc.values\n",
    "fl=psp_followup_auc.loc[psp_baseline_auc.subject.isin(subjects)].auc.values\n",
    "\n",
    "yticks = [-.3, .3]\n",
    "ylim, first, third, offset = show_p_statistic(yticks)\n",
    "\n",
    "ax[1].scatter(np.zeros(bl.shape), bl, color=baseline_color, label='PSP', s=scatter_marker, alpha = scatter_alpha)\n",
    "ax[1].scatter(np.ones(fl.shape), fl, color=follow_color, label = 'PD', s=scatter_marker, alpha = scatter_alpha)\n",
    "\n",
    "ax[1].boxplot(bl, positions=[0], widths=.5, boxprops = dict(linewidth=line_width_b), whiskerprops = dict(linewidth=line_width_b), capprops = dict(linewidth=line_width_b),\n",
    "           medianprops = dict(linestyle='-', linewidth=line_width_b, color='black'), showfliers=False, whis=(0, 100))\n",
    "\n",
    "ax[1].boxplot(fl, positions=[1], widths=.5, boxprops = dict(linewidth=line_width_b), whiskerprops = dict(linewidth=line_width_b), capprops = dict(linewidth=line_width_b),\n",
    "           medianprops = dict(linestyle='-', linewidth=line_width_b, color='black'), showfliers=False, whis=(0, 100))\n",
    "\n",
    "ax[1].set(xlabel='',\n",
    "      xticks=[0,1, 2],\n",
    "      xticklabels=['BL', 'FU'],\n",
    "      ylabel='AUC',\n",
    "       ylim=[yticks[0], ylim],\n",
    "      yticks=yticks)\n",
    "\n",
    "ax[1].vlines(0, ymin=third-offset, ymax=third+offset, lw=line_width_p)\n",
    "ax[1].vlines(1, ymin=third-offset, ymax=third+offset, lw=line_width_p)\n",
    "ax[1].plot((0, 1), (third, third), color='black', lw=line_width_p)\n",
    "ax[1].annotate(p_annot(ttest_ind(bl,fl)[1])[0], weight = p_annot(ttest_ind(bl, fl)[1])[1], xy=(.5,third), fontsize=psize, ha='center', va='center', bbox=dict(boxstyle='round,pad=0.1', fc='white', alpha=1))\n",
    "\n",
    "\n",
    "\n",
    "#third FREQUENCY\n",
    "\n",
    "# load data\n",
    "df = hip.loc[hip.frequency<hip_limit]\n",
    "\n",
    "bl = df.loc[(df.group == 'baseline')&(df.subject.isin(subjects))].frequency.values\n",
    "fl = df.loc[(df.group == 'followup')&(df.subject.isin(subjects))].frequency.values\n",
    "\n",
    "\n",
    "yticks = [0, .6]\n",
    "ylim, first, third, offset = show_p_statistic(yticks)\n",
    "\n",
    "\n",
    "\n",
    "ax[2].scatter(np.zeros(bl.shape), bl, color=baseline_color, label='PSP', s=scatter_marker, alpha = scatter_alpha)\n",
    "ax[2].scatter(np.ones(fl.shape), fl, color=follow_color, label = 'PD', s=scatter_marker, alpha = scatter_alpha)\n",
    "\n",
    "\n",
    "ax[2].boxplot(bl, positions=[0],widths=.5, boxprops = dict(linewidth=line_width_b), whiskerprops = dict(linewidth=line_width_b), capprops = dict(linewidth=line_width_b),\n",
    "           medianprops = dict(linestyle='-', linewidth=line_width_b, color='black'), showfliers=False, whis=(0, 100))\n",
    "\n",
    "ax[2].boxplot(fl, positions=[1], widths=.5, boxprops = dict(linewidth=line_width_b), whiskerprops = dict(linewidth=line_width_b), capprops = dict(linewidth=line_width_b),\n",
    "           medianprops = dict(linestyle='-', linewidth=line_width_b, color='black'), showfliers=False, whis=(0, 100))\n",
    "\n",
    "ax[2].set(xlabel='',\n",
    "      xticks=[0,1, 2],\n",
    "      xticklabels=['BL', 'FU'],\n",
    "      ylabel='Frequency (Hz)',\n",
    "       ylim=[yticks[0], ylim],\n",
    "      yticks=yticks)\n",
    "\n",
    "ax[2].vlines(0, ymin=third-offset, ymax=third+offset, lw=line_width_p)\n",
    "ax[2].vlines(1, ymin=third-offset, ymax=third+offset, lw=line_width_p)\n",
    "ax[2].plot((0, 1), (third, third), color='black', lw=line_width_p)\n",
    "ax[2].annotate(p_annot(ttest_ind(bl, fl)[1])[0], weight = p_annot(ttest_ind(bl, fl)[1])[1], xy=(.5,third), fontsize=psize, ha='center', va='center', bbox=dict(boxstyle='round,pad=0.1', fc='white', alpha=1))\n",
    "\n",
    "#BOTTOM RIGHT - MAGNITUDE\n",
    "# load data\n",
    "df = hip.loc[hip.frequency<hip_limit]\n",
    "\n",
    "bl = df.loc[(df.group == 'baseline')&(df.subject.isin(subjects))].offset.values\n",
    "fl = df.loc[(df.group == 'followup')&(df.subject.isin(subjects))].offset.values\n",
    "\n",
    "\n",
    "yticks = [0, 6]\n",
    "ylim, first, third, offset = show_p_statistic(yticks)\n",
    "\n",
    "\n",
    "\n",
    "ax[3].scatter(np.zeros(bl.shape), bl, color=baseline_color, label='PSP', s=scatter_marker, alpha = scatter_alpha)\n",
    "ax[3].scatter(np.ones(fl.shape), fl, color=follow_color, label = 'PD', s=scatter_marker, alpha = scatter_alpha)\n",
    "\n",
    "\n",
    "ax[3].boxplot(bl, positions=[0],widths=.5, boxprops = dict(linewidth=line_width_b), whiskerprops = dict(linewidth=line_width_b), capprops = dict(linewidth=line_width_b),\n",
    "           medianprops = dict(linestyle='-', linewidth=line_width_b, color='black'), showfliers=False, whis=(0, 100))\n",
    "\n",
    "ax[3].boxplot(fl, positions=[1], widths=.5, boxprops = dict(linewidth=line_width_b), whiskerprops = dict(linewidth=line_width_b), capprops = dict(linewidth=line_width_b),\n",
    "           medianprops = dict(linestyle='-', linewidth=line_width_b, color='black'), showfliers=False, whis=(0, 100))\n",
    "\n",
    "ax[3].set(xlabel='',\n",
    "      xticks=[0,1, 2],\n",
    "      xticklabels=['BL', 'FU'],\n",
    "      ylabel='Hippus power',\n",
    "       ylim=[yticks[0], ylim],\n",
    "      yticks=yticks)\n",
    "\n",
    "ax[3].vlines(0, ymin=third-offset, ymax=third+offset, lw=line_width_p)\n",
    "ax[3].vlines(1, ymin=third-offset, ymax=third+offset, lw=line_width_p)\n",
    "ax[3].plot((0, 1), (third, third), color='black', lw=line_width_p)\n",
    "ax[3].annotate(p_annot(ttest_ind(bl, fl)[1])[0], weight = p_annot(ttest_ind(bl, fl)[1])[1], xy=(.5,third), fontsize=psize, ha='center', va='center', bbox=dict(boxstyle='round,pad=0.1', fc='white', alpha=1))\n",
    "\n",
    "sns.despine(trim=True)\n",
    "f.tight_layout()\n",
    "\n",
    "\n",
    "f.savefig(join(edition, 'Figures', 'Pupil_metrics_followup.png'),  dpi=600)"
   ]
  },
  {
   "cell_type": "markdown",
   "metadata": {},
   "source": [
    "### 3.3 NEW: Metrics incl. FOOOV"
   ]
  },
  {
   "cell_type": "code",
   "execution_count": 69,
   "metadata": {
    "jupyter": {
     "source_hidden": true
    }
   },
   "outputs": [],
   "source": [
    "# Function for subplots\n",
    "def subplot(j, ylabel, yticks, data, xticklabels=['BL', 'FU']):\n",
    "    bl = data[0]\n",
    "    fl = data [1]\n",
    "    ylim, first, third, offset = show_p_statistic(yticks)\n",
    "    ax[j].scatter(np.zeros(bl.shape), bl, color=baseline_color, label='PSP', s=scatter_marker, alpha = scatter_alpha)\n",
    "    ax[j].scatter(np.ones(fl.shape), fl, color=follow_color, label = 'PD', s=scatter_marker, alpha = scatter_alpha)\n",
    "\n",
    "\n",
    "    ax[j].boxplot(bl, positions=[0],widths=.5, boxprops = dict(linewidth=line_width_b), whiskerprops = dict(linewidth=line_width_b), capprops = dict(linewidth=line_width_b),\n",
    "               medianprops = dict(linestyle='-', linewidth=line_width_b, color='black'), showfliers=False, whis=(0, 100))\n",
    "\n",
    "    ax[j].boxplot(fl, positions=[1], widths=.5, boxprops = dict(linewidth=line_width_b), whiskerprops = dict(linewidth=line_width_b), capprops = dict(linewidth=line_width_b),\n",
    "               medianprops = dict(linestyle='-', linewidth=line_width_b, color='black'), showfliers=False, whis=(0, 100))\n",
    "\n",
    "    ax[j].set(xlabel='',\n",
    "          xticks=[0,1, 2],\n",
    "          xticklabels=xticklabels,\n",
    "          ylabel=ylabel,\n",
    "           ylim=[yticks[0], ylim],\n",
    "          yticks=yticks)\n",
    "    print(third)\n",
    "    ax[j].vlines(0, ymin=third-offset, ymax=third+offset, lw=line_width_p)\n",
    "    ax[j].vlines(1, ymin=third-offset, ymax=third+offset, lw=line_width_p)\n",
    "    ax[j].plot((0, 1), (third, third), color='black', lw=line_width_p)\n",
    "    ax[j].annotate(p_annot(ttest_ind(bl, fl)[1])[0], weight = p_annot(ttest_ind(bl, fl)[1])[1], xy=(.5,third), fontsize=psize, ha='center', va='center', bbox=dict(boxstyle='round,pad=0.1', fc='white', alpha=1))\n"
   ]
  },
  {
   "cell_type": "code",
   "execution_count": 26,
   "metadata": {
    "jupyter": {
     "source_hidden": true
    }
   },
   "outputs": [
    {
     "name": "stdout",
     "output_type": "stream",
     "text": [
      "2.32\n",
      "2.32\n",
      "5.64\n",
      "0.4800000000000001\n",
      "17.4\n",
      "0.396\n"
     ]
    },
    {
     "data": {
      "image/png": "[encoded data removed]",
      "text/plain": [
       "<Figure size 336x96 with 6 Axes>"
      ]
     },
     "metadata": {},
     "output_type": "display_data"
    }
   ],
   "source": [
    "# Metrics FU vs. BL with FOOOV\n",
    "psp_followup_auc = pd.read_hdf(join(edition, 'Figures', 'data', 'psp_followup_auc.hdf'), key='data')\n",
    "psp_baseline_auc = pd.read_hdf(join(edition, 'Figures', 'data', 'psp_baseline_auc.hdf'), key='data')\n",
    "CoV = pd.read_hdf(join(edition, 'Figures', 'data', 'CoV.hdf'), key='data')\n",
    "fooov = pd.read_hdf(join(edition, 'Figures', 'data', 'fooof_results.hdf'), key= 'data')\n",
    "\n",
    "subjects = np.load(join(edition, 'Figures', 'data', 'subjects.npy'), allow_pickle=True)\n",
    "\n",
    "\n",
    "\n",
    "f, ax = plt.subplots(1, 6, figsize = (4/3*3.5, 2/3*2))\n",
    "    \n",
    "# 1. Frequency\n",
    "bl =  fooov.loc[(fooov.session == 'Baseline')&(~fooov.peak1_CF.isnull())&(fooov.group == 'PSP')].peak1_CF.values\n",
    "fl =  fooov.loc[(fooov.session == 'Followup')&(~fooov.peak1_CF.isnull())&(fooov.group == 'PSP')].peak1_CF.values\n",
    "subplot(j=0, yticks=[0, 2], ylabel = 'Frequency (Hz)', data = [bl, fl])\n",
    "\n",
    "# 2. power\n",
    "bl =  fooov.loc[(fooov.session == 'Baseline')&(~fooov.peak1_CF.isnull())&(fooov.group == 'PSP')].peak1_PW.values\n",
    "fl =  fooov.loc[(fooov.session == 'Followup')&(~fooov.peak1_CF.isnull())&(fooov.group == 'PSP')].peak1_PW.values\n",
    "subplot(j=1, yticks=[0, 2], ylabel = 'Power', data = [bl, fl])\n",
    "\n",
    "\n",
    "# 3. Exponent\n",
    "bl =  fooov.loc[(fooov.session == 'Baseline')&(fooov.group == 'PSP')].aperiodic_exp.values\n",
    "fl =  fooov.loc[(fooov.session == 'Followup')&(fooov.group == 'PSP')].aperiodic_exp.values\n",
    "subplot(j=2, yticks=[1, 5], ylabel = 'Exponent', data = [bl, fl])\n",
    "\n",
    "\n",
    "# 3. Offset\n",
    "bl =  fooov.loc[(fooov.session == 'Baseline')&(fooov.group == 'PSP')].aperiodic_offset.values\n",
    "fl =  fooov.loc[(fooov.session == 'Followup')&(fooov.group == 'PSP')].aperiodic_offset.values\n",
    "subplot(j=3, yticks=[-3, 0], ylabel = 'Offset', data = [bl, fl])\n",
    "\n",
    "\n",
    "# 5. CoV\n",
    "bl = CoV.loc[(CoV.group == 'PSP')&(CoV.session == 'Baseline')&CoV.subject.isin(subjects)].CoV.values\n",
    "fl = CoV.loc[(CoV.group == 'PSP')&(CoV.session == 'Followup')&CoV.subject.isin(subjects)].CoV.values\n",
    "subplot(j=4, yticks=[0, 15], ylabel = 'CoV', data = [bl, fl])\n",
    "\n",
    "\n",
    "# 6. AUC\n",
    "bl = psp_baseline_auc.loc[psp_baseline_auc.subject.isin(subjects)].auc.values\n",
    "fl=psp_followup_auc.loc[psp_baseline_auc.subject.isin(subjects)].auc.values\n",
    "subplot(j=5, yticks=[-.3, .3], ylabel = 'AUC', data = [bl, fl])\n",
    "\n",
    "\n",
    "sns.despine(trim=True)\n",
    "f.tight_layout(pad=.5, w_pad=0)\n",
    "    \n",
    "    \n",
    "f.savefig(join(edition, 'Figures', 'Pupil_metrics_followup_fooov.png'),  dpi=600)"
   ]
  },
  {
   "cell_type": "markdown",
   "metadata": {},
   "source": [
    "### 3.4 NEW Metrics Follow-up reduced"
   ]
  },
  {
   "cell_type": "code",
   "execution_count": 78,
   "metadata": {
    "jupyter": {
     "source_hidden": true
    }
   },
   "outputs": [
    {
     "name": "stdout",
     "output_type": "stream",
     "text": [
      "11.6\n",
      "0.396\n"
     ]
    },
    {
     "data": {
      "image/png": "[encoded data removed]",
      "text/plain": [
       "<Figure size 126x96 with 2 Axes>"
      ]
     },
     "metadata": {},
     "output_type": "display_data"
    }
   ],
   "source": [
    "# Metrics FU vs. BL with FOOOV\n",
    "psp_followup_auc = pd.read_hdf(join(edition, 'Figures', 'data', 'psp_followup_auc.hdf'), key='data')\n",
    "psp_baseline_auc = pd.read_hdf(join(edition, 'Figures', 'data', 'psp_baseline_auc.hdf'), key='data')\n",
    "CoV = pd.read_hdf(join(edition, 'Figures', 'data', 'CoV.hdf'), key='data')\n",
    "fooov = pd.read_hdf(join(edition, 'Figures', 'data', 'fooof_results.hdf'), key= 'data')\n",
    "\n",
    "subjects = np.load(join(edition, 'Figures', 'data', 'subjects.npy'), allow_pickle=True)\n",
    "\n",
    "\n",
    "f, ax = plt.subplots(1, 2, figsize = (3/6*3.5, 2/3*2))\n",
    "    \n",
    "\n",
    "# 5. CoV\n",
    "bl = CoV.loc[(CoV.group == 'PSP')&(CoV.session == 'Baseline')&CoV.subject.isin(subjects)].CoV.values\n",
    "fl = CoV.loc[(CoV.group == 'PSP')&(CoV.session == 'Followup')&CoV.subject.isin(subjects)].CoV.values\n",
    "subplot(j=0, yticks=[0, 10], ylabel = 'CoV', data = [bl, fl])\n",
    "\n",
    "\n",
    "# 6. AUC\n",
    "bl = psp_baseline_auc.loc[psp_baseline_auc.subject.isin(subjects)].auc.values\n",
    "fl=psp_followup_auc.loc[psp_baseline_auc.subject.isin(subjects)].auc.values\n",
    "subplot(j=1, yticks=[-.3, .3], ylabel = 'AUC', data = [bl, fl])\n",
    "\n",
    "\n",
    "sns.despine(trim=True)\n",
    "f.tight_layout(pad=.5, w_pad=0)\n",
    "    \n",
    "    \n",
    "f.savefig(join(edition, 'Figures', 'Pupil_metrics_followup_fooov_reduced.png'),  dpi=600)"
   ]
  },
  {
   "cell_type": "markdown",
   "metadata": {},
   "source": [
    "## 4. PSP-RS vs. non-RS\n",
    "### 4.1 Spectra"
   ]
  },
  {
   "cell_type": "code",
   "execution_count": 76,
   "metadata": {
    "jupyter": {
     "source_hidden": true
    }
   },
   "outputs": [
    {
     "data": {
      "image/png": "[encoded data removed]",
      "text/plain": [
       "<Figure size 126x96 with 1 Axes>"
      ]
     },
     "metadata": {},
     "output_type": "display_data"
    }
   ],
   "source": [
    "#data\n",
    "# data for plotting: \n",
    "popt = np.load(join(edition, 'Figures', 'data', 'popt.npy')) \n",
    "auc_x = np.load(join(edition, 'Figures', 'data', 'auc_x.npy')) \n",
    "psp_baseline = pd.read_hdf(join(edition, 'Figures', 'data', 'psp_baseline.hdf'), \n",
    "                           key = 'data') \n",
    "\n",
    "f, ax = plt.subplots(figsize=(1/2*3.5, 2/3*2))\n",
    "\n",
    "baseline_color='black'\n",
    "follow_color='grey'\n",
    "\n",
    "ci=95\n",
    "\n",
    "stacked = psp_baseline.loc[dt.RS].drop(['session'], axis=1).unstack().reset_index()\n",
    "plot = sns.lineplot(data= stacked, x='level_0', y=0, ci=ci, color=baseline_color, lw=lw_power1, label='PSP-RS')\n",
    "\n",
    "stacked = psp_baseline.loc[dt.non_RS].drop(['session'], axis=1).unstack().reset_index()\n",
    "plot = sns.lineplot(data= stacked, x='level_0', y=0, ci=ci, color=follow_color, alpha=.5, lw=lw_power1, label='vPSP')\n",
    "\n",
    "plot.set(xscale='log', yscale='log')\n",
    "plot.set(xlim = (1/32, 1), ylim=(.01, 10))\n",
    "ax.set(xlabel='',\n",
    "      ylabel='',\n",
    "      xticks=[1/32,1/16, 1/8, 1/4, 1/2, 1],\n",
    "      xticklabels=['1/32','1/16', '1/8', '1/4', '1/2', '1'])\n",
    "sns.despine()\n",
    "\n",
    "plt.plot(auc_x, func_powerlaw(auc_x, *popt), color='black', linestyle='--', lw=lw_power)\n",
    "# plt.plot(permut_x, ((pvals<.05)+1)*.02, color='black')\n",
    "\n",
    "ax.legend(bbox_to_anchor=(1.1, 1.05), frameon=False)\n",
    "\n",
    "#f.tight_layout()\n",
    "f.savefig(join(edition, 'Figures', 'PowerSpectra_RS.png'), dpi=600)\n",
    "\n"
   ]
  },
  {
   "cell_type": "markdown",
   "metadata": {},
   "source": [
    "### 4.2 Deprecated: Metrics RS (No FOOOV)\n",
    "- non fooov"
   ]
  },
  {
   "cell_type": "code",
   "execution_count": 34,
   "metadata": {
    "jupyter": {
     "source_hidden": true
    }
   },
   "outputs": [
    {
     "name": "stdout",
     "output_type": "stream",
     "text": [
      "11.6\n",
      "0.396\n",
      "0.696\n",
      "6.96\n"
     ]
    },
    {
     "data": {
      "image/png": "[encoded data removed]",
      "text/plain": [
       "<Figure size 336x96 with 4 Axes>"
      ]
     },
     "metadata": {},
     "output_type": "display_data"
    }
   ],
   "source": [
    "### auxiliary\n",
    "\n",
    "# load data\n",
    "hip = pd.read_hdf(join(edition, 'Figures', 'data', 'hip.hdf'), key= 'data')\n",
    "hip_limit = .9\n",
    "CoV = pd.read_hdf(join(edition, 'Figures', 'data', 'CoV.hdf'), key='data')\n",
    "psp_baseline_auc = pd.read_hdf(join(edition, 'Figures', 'data', 'psp_baseline_auc.hdf'), key='data')\n",
    "\n",
    "\n",
    "\n",
    "f, ax = plt.subplots(1, 4, figsize = (4/3*3.5, 2/3*2))\n",
    "\n",
    "\n",
    "# COV\n",
    "bl = CoV.loc[(CoV.group == 'PSP')&(CoV.session == 'Baseline')&CoV.subject.isin(dt.RS)].CoV.values\n",
    "fl = CoV.loc[(CoV.group == 'PSP')&(CoV.session == 'Baseline')&CoV.subject.isin(dt.non_RS)].CoV.values\n",
    "subplot(j=0, yticks = [0, 10], ylabel = 'CoV', data = [bl, fl], xticklabels=['PSP-RS', 'vPSP'])\n",
    "\n",
    "\n",
    "# AUC\n",
    "bl = psp_baseline_auc.loc[psp_baseline_auc.subject.isin(dt.RS)].auc.values\n",
    "fl=psp_baseline_auc.loc[psp_baseline_auc.subject.isin(dt.non_RS)].auc.values\n",
    "subplot(j=1, yticks = [-.3, .3], ylabel = 'AUC', data = [bl, fl], xticklabels=['PSP-RS', 'vPSP'])\n",
    "\n",
    "\n",
    "#FREQUENCY\n",
    "\n",
    "# load data\n",
    "df = hip.loc[hip.frequency<hip_limit]\n",
    "bl = df.loc[(df.group == 'baseline')&(df.subject.isin(dt.RS))].frequency.values\n",
    "fl = df.loc[(df.group == 'baseline')&(df.subject.isin(dt.non_RS))].frequency.values\n",
    "subplot(j=2, yticks = [0, .6], ylabel = 'Frequency (Hz)', data = [bl, fl], xticklabels=['PSP-RS', 'vPSP'])\n",
    "\n",
    "\n",
    "#Power\n",
    "df = hip.loc[hip.frequency<hip_limit]\n",
    "bl = df.loc[(df.group == 'baseline')&(df.subject.isin(dt.RS))].offset.values\n",
    "fl = df.loc[(df.group == 'baseline')&(df.subject.isin(dt.non_RS))].offset.values\n",
    "subplot(j=3, yticks = [0, 6], ylabel = 'Power', data = [bl, fl], xticklabels=['PSP-RS', 'vPSP'])\n",
    "\n",
    "\n",
    "sns.despine(trim=True)\n",
    "f.tight_layout()\n",
    "\n",
    "\n",
    "#f.savefig(join(edition, 'Figures', 'Pupil_metrics_RS.png'),  dpi=600)"
   ]
  },
  {
   "cell_type": "markdown",
   "metadata": {},
   "source": [
    "### 4.3 NEW Metrics RS incl FOOOV \n",
    "- fooov\n",
    "- full"
   ]
  },
  {
   "cell_type": "code",
   "execution_count": 41,
   "metadata": {
    "jupyter": {
     "source_hidden": true
    }
   },
   "outputs": [
    {
     "name": "stdout",
     "output_type": "stream",
     "text": [
      "2.32\n",
      "2.32\n",
      "5.64\n",
      "0.4800000000000001\n",
      "17.4\n",
      "0.396\n"
     ]
    },
    {
     "data": {
      "image/png": "[encoded data removed]",
      "text/plain": [
       "<Figure size 336x96 with 6 Axes>"
      ]
     },
     "metadata": {},
     "output_type": "display_data"
    }
   ],
   "source": [
    "# Metrics FU vs. BL with FOOOV\n",
    "psp_baseline_auc = pd.read_hdf(join(edition, 'Figures', 'data', 'psp_baseline_auc.hdf'), key='data')\n",
    "CoV = pd.read_hdf(join(edition, 'Figures', 'data', 'CoV.hdf'), key='data')\n",
    "fooov = pd.read_hdf(join(edition, 'Figures', 'data', 'fooof_results.hdf'), key= 'data')\n",
    "\n",
    "subjects = np.load(join(edition, 'Figures', 'data', 'subjects.npy'), allow_pickle=True)\n",
    "\n",
    "\n",
    "\n",
    "f, ax = plt.subplots(1, 6, figsize = (4/3*3.5, 2/3*2))\n",
    "    \n",
    "# 1. Frequency\n",
    "bl =  fooov.loc[(fooov.session == 'Baseline')&(~fooov.peak1_CF.isnull())&(fooov.group == 'PSP')&(fooov.subject.isin(dt.RS))].peak1_CF.values\n",
    "fl =  fooov.loc[(fooov.session == 'Followup')&(~fooov.peak1_CF.isnull())&(fooov.group == 'PSP')&(fooov.subject.isin(dt.non_RS))].peak1_CF.values\n",
    "subplot(j=0, yticks=[0, 2], ylabel = 'Frequency (Hz)', data = [bl, fl], xticklabels=['PSP-RS', 'vPSP'])\n",
    "\n",
    "# 2. power\n",
    "bl =  fooov.loc[(fooov.session == 'Baseline')&(~fooov.peak1_CF.isnull())&(fooov.group == 'PSP')&(fooov.subject.isin(dt.RS))].peak1_PW.values\n",
    "fl =  fooov.loc[(fooov.session == 'Followup')&(~fooov.peak1_CF.isnull())&(fooov.group == 'PSP')&(fooov.subject.isin(dt.non_RS))].peak1_PW.values\n",
    "subplot(j=1, yticks=[0, 2], ylabel = 'Power', data = [bl, fl], xticklabels=['PSP-RS', 'vPSP'])\n",
    "\n",
    "\n",
    "# 3. Exponent\n",
    "bl =  fooov.loc[(fooov.session == 'Baseline')&(fooov.group == 'PSP')&(fooov.subject.isin(dt.RS))].aperiodic_exp.values\n",
    "fl =  fooov.loc[(fooov.session == 'Baseline')&(fooov.group == 'PSP')&(fooov.subject.isin(dt.non_RS))].aperiodic_exp.values\n",
    "subplot(j=2, yticks=[1, 5], ylabel = 'Exponent', data = [bl, fl], xticklabels=['PSP-RS', 'vPSP'])\n",
    "\n",
    "\n",
    "# 3. Offset\n",
    "bl =  fooov.loc[(fooov.session == 'Baseline')&(fooov.group == 'PSP')&(fooov.subject.isin(dt.RS))].aperiodic_offset.values\n",
    "fl =  fooov.loc[(fooov.session == 'Baseline')&(fooov.group == 'PSP')&(fooov.subject.isin(dt.non_RS))].aperiodic_offset.values\n",
    "subplot(j=3, yticks=[-3, 0], ylabel = 'Offset', data = [bl, fl], xticklabels=['PSP-RS', 'vPSP'])\n",
    "\n",
    "\n",
    "# 5. CoV\n",
    "bl = CoV.loc[(CoV.group == 'PSP')&(CoV.session == 'Baseline')&(CoV.subject.isin(dt.RS))].CoV.values\n",
    "fl = CoV.loc[(CoV.group == 'PSP')&(CoV.session == 'Baseline')&(CoV.subject.isin(dt.non_RS))].CoV.values\n",
    "subplot(j=4, yticks=[0, 15], ylabel = 'CoV', data = [bl, fl], xticklabels=['PSP-RS', 'vPSP'])\n",
    "\n",
    "\n",
    "# 6. AUC\n",
    "bl = psp_baseline_auc.loc[psp_baseline_auc.subject.isin(dt.RS)].auc.values\n",
    "fl=psp_baseline_auc.loc[psp_baseline_auc.subject.isin(dt.non_RS)].auc.values\n",
    "subplot(j=5, yticks=[-.3, .3], ylabel = 'AUC', data = [bl, fl], xticklabels=['PSP-RS', 'vPSP'])\n",
    "\n",
    "\n",
    "sns.despine(trim=True)\n",
    "f.tight_layout(pad=.5, w_pad=0)\n",
    "    \n",
    "    \n",
    "f.savefig(join(edition, 'Figures', 'Pupil_metrics_RS_fooov.png'),  dpi=600)"
   ]
  },
  {
   "cell_type": "markdown",
   "metadata": {},
   "source": [
    "### 4.4 NEW Metrics RS FOOOV reduced"
   ]
  },
  {
   "cell_type": "code",
   "execution_count": 79,
   "metadata": {
    "jupyter": {
     "source_hidden": true
    }
   },
   "outputs": [
    {
     "name": "stdout",
     "output_type": "stream",
     "text": [
      "11.6\n",
      "0.396\n"
     ]
    },
    {
     "data": {
      "image/png": "[encoded data removed]",
      "text/plain": [
       "<Figure size 126x96 with 2 Axes>"
      ]
     },
     "metadata": {},
     "output_type": "display_data"
    }
   ],
   "source": [
    "# Metrics FU vs. BL with FOOOV\n",
    "psp_baseline_auc = pd.read_hdf(join(edition, 'Figures', 'data', 'psp_baseline_auc.hdf'), key='data')\n",
    "CoV = pd.read_hdf(join(edition, 'Figures', 'data', 'CoV.hdf'), key='data')\n",
    "fooov = pd.read_hdf(join(edition, 'Figures', 'data', 'fooof_results.hdf'), key= 'data')\n",
    "\n",
    "subjects = np.load(join(edition, 'Figures', 'data', 'subjects.npy'), allow_pickle=True)\n",
    "\n",
    "\n",
    "\n",
    "f, ax = plt.subplots(1, 2, figsize = (1/2*3.5, 2/3*2))\n",
    "\n",
    "\n",
    "# 5. CoV\n",
    "bl = CoV.loc[(CoV.group == 'PSP')&(CoV.session == 'Baseline')&(CoV.subject.isin(dt.RS))].CoV.values\n",
    "fl = CoV.loc[(CoV.group == 'PSP')&(CoV.session == 'Baseline')&(CoV.subject.isin(dt.non_RS))].CoV.values\n",
    "subplot(j=0, yticks=[0, 10], ylabel = 'CoV', data = [bl, fl], xticklabels=['PSP-RS', 'vPSP'])\n",
    "\n",
    "\n",
    "# 6. AUC\n",
    "bl = psp_baseline_auc.loc[psp_baseline_auc.subject.isin(dt.RS)].auc.values\n",
    "fl=psp_baseline_auc.loc[psp_baseline_auc.subject.isin(dt.non_RS)].auc.values\n",
    "subplot(j=1, yticks=[-.3, .3], ylabel = 'AUC', data = [bl, fl], xticklabels=['PSP-RS', 'vPSP'])\n",
    "\n",
    "\n",
    "sns.despine(trim=True)\n",
    "f.tight_layout(pad=.5, w_pad=0)\n",
    "    \n",
    "    \n",
    "f.savefig(join(edition, 'Figures', 'Pupil_metrics_RS_fooov_reduced.png'),  dpi=600)"
   ]
  },
  {
   "cell_type": "markdown",
   "metadata": {},
   "source": [
    "## 5. Modeling examples"
   ]
  },
  {
   "cell_type": "code",
   "execution_count": 48,
   "metadata": {
    "jupyter": {
     "source_hidden": true
    }
   },
   "outputs": [
    {
     "data": {
      "image/png": "[encoded data removed]",
      "text/plain": [
       "<Figure size 144x144 with 2 Axes>"
      ]
     },
     "metadata": {},
     "output_type": "display_data"
    }
   ],
   "source": [
    "no_hippus = pd.read_hdf(join(edition, 'PowerFrequencies', 'Example_model_fit_HC07_no_hippus.hdf'), key='data')\n",
    "hippus = pd.read_hdf(join(edition, 'PowerFrequencies', 'Example_model_fit_HC08_hippus.hdf'), key='data')\n",
    "\n",
    "f, ax = plt.subplots(2, 1, figsize=(2, 2))\n",
    "\n",
    "\n",
    "ax[0].plot(no_hippus.freqs.values, no_hippus.power_spectrum.values, color= 'black', lw=lw_power1-1, alpha=1, label = 'Original Spectrum')\n",
    "ax[0].plot(no_hippus.freqs.values, no_hippus.modeled_spectrum_.values, color= 'red', alpha=.5, lw=lw_power1, label = 'Full Model FIit')\n",
    "ax[0].plot(no_hippus.freqs.values, no_hippus._ap_fit.values, color= 'blue', linestyle='dotted', alpha=.5, lw=lw_power1, label = 'Aperiodic Fit')\n",
    "\n",
    "ax[0].set(xscale='log')\n",
    "ax[0].set(xlim = (1/32, 1), ylim=(-3, 1))\n",
    "ax[0].set(xlabel='',\n",
    "      ylabel='Power',\n",
    "      xticks=[1/32,1/16, 1/8, 1/4, 1/2, 1],\n",
    "      xticklabels=['1/32','1/16', '1/8', '1/4', '1/2', '1'],\n",
    "      yticks=[-2, -1, 0, 1],\n",
    "         yticklabels=[])\n",
    "\n",
    "ax[1].plot(hippus.freqs.values, hippus.power_spectrum.values, color= 'black', lw=lw_power1-1, alpha=1,)\n",
    "ax[1].plot(hippus.freqs.values, hippus.modeled_spectrum_.values, color= 'red', alpha=.5, lw=lw_power1)\n",
    "ax[1].plot(hippus.freqs.values, hippus._ap_fit.values, color= 'blue', linestyle='dotted', alpha=.5, lw=lw_power1)\n",
    "\n",
    "ax[1].set(xscale='log')\n",
    "ax[1].set(xlim = (1/32, 1), ylim=(-3, 1))\n",
    "ax[1].set(xlabel='',\n",
    "      ylabel='Power',\n",
    "      xticks=[1/32,1/16, 1/8, 1/4, 1/2, 1],\n",
    "      xticklabels=['1/32','1/16', '1/8', '1/4', '1/2', '1'],\n",
    "      yticks=[-2, -1, 0, 1],\n",
    "         yticklabels=[])\n",
    "\n",
    "\n",
    "\n",
    "\n",
    "sns.despine()\n",
    "f.legend(bbox_to_anchor=(1.04, 1.02), frameon=False)\n",
    "#f.tight_layout()\n",
    "\n",
    "f.savefig(join(edition, 'Figures', 'Example_model_no_hippus.png'),  dpi=600)"
   ]
  },
  {
   "cell_type": "markdown",
   "metadata": {},
   "source": [
    "## 6. Bar plot"
   ]
  },
  {
   "cell_type": "code",
   "execution_count": 49,
   "metadata": {},
   "outputs": [],
   "source": [
    "params = pd.read_hdf(join(edition, 'Figures', 'data', 'fooof_results.hdf'), key='data')\n"
   ]
  },
  {
   "cell_type": "code",
   "execution_count": 51,
   "metadata": {},
   "outputs": [
    {
     "name": "stdout",
     "output_type": "stream",
     "text": [
      "PSP: 8 with at least 1 peak, 12 with no detected peak\n",
      "PD: 7 with at least 1 peak, 4 with no detected peak\n",
      "HC: 6 with at least 1 peak, 6 with no detected peak\n"
     ]
    }
   ],
   "source": [
    "print('PSP: {0} with at least 1 peak, {1} with no detected peak'.format(params.loc[(params.session == 'Baseline')&(~params.peak1_CF.isnull())].groupby('group').count().loc['PSP'].session,\n",
    "                                                                       params.loc[(params.session == 'Baseline')&(params.peak1_CF.isnull())].groupby('group').count().loc['PSP'].session))\n",
    "\n",
    "print('PD: {0} with at least 1 peak, {1} with no detected peak'.format(params.loc[(params.session == 'Baseline')&(~params.peak1_CF.isnull())].groupby('group').count().loc['PD'].session,\n",
    "                                                                       params.loc[(params.session == 'Baseline')&(params.peak1_CF.isnull())].groupby('group').count().loc['PD'].session))\n",
    "\n",
    "print('HC: {0} with at least 1 peak, {1} with no detected peak'.format(params.loc[(params.session == 'Baseline')&(~params.peak1_CF.isnull())].groupby('group').count().loc['Control'].session,\n",
    "                                                                       params.loc[(params.session == 'Baseline')&(params.peak1_CF.isnull())].groupby('group').count().loc['Control'].session))\n"
   ]
  },
  {
   "cell_type": "code",
   "execution_count": 63,
   "metadata": {
    "jupyter": {
     "source_hidden": true
    }
   },
   "outputs": [
    {
     "name": "stdout",
     "output_type": "stream",
     "text": [
      "Hippus\n",
      "No hippus\n"
     ]
    },
    {
     "data": {
      "image/png": "[encoded data removed]",
      "text/plain": [
       "<Figure size 108x144 with 1 Axes>"
      ]
     },
     "metadata": {},
     "output_type": "display_data"
    }
   ],
   "source": [
    "groups = (\n",
    "    \"PSP\",\n",
    "    \"PD\",\n",
    "    \"HC\",\n",
    ")\n",
    "weight_counts = {\n",
    "    \"Hippus\": np.array([8,7,6]),\n",
    "    \"No hippus\": np.array([12,4,6])\n",
    "}\n",
    "\n",
    "textures = {\"Hippus\": ['x', 'black'],\n",
    "    \"No hippus\": ['', 'grey']}\n",
    "\n",
    "width = 0.5\n",
    "\n",
    "fig, ax = plt.subplots(figsize=(1.5, 2))\n",
    "bottom = np.zeros(3)\n",
    "\n",
    "\n",
    "\n",
    "\n",
    "for boolean, weight_count in weight_counts.items():\n",
    "    print(boolean)\n",
    "    p = ax.bar(groups, weight_count, width, label=boolean, bottom=bottom, color=textures[boolean][1])\n",
    "    bottom += weight_count\n",
    "\n",
    "ax.set_title(\"Presence of hippus\")\n",
    "ax.legend(loc=\"upper right\", frameon=False)\n",
    "\n",
    "ax.set(yticks=[0, 10, 20])\n",
    "\n",
    "sns.despine()\n",
    "fig.savefig(join(edition, 'Figures', 'hippus_presence.png'),  dpi=600)"
   ]
  },
  {
   "cell_type": "code",
   "execution_count": null,
   "metadata": {},
   "outputs": [],
   "source": []
  }
 ],
 "metadata": {
  "kernelspec": {
   "display_name": "Python 3",
   "language": "python",
   "name": "python3"
  },
  "language_info": {
   "codemirror_mode": {
    "name": "ipython",
    "version": 3
   },
   "file_extension": ".py",
   "mimetype": "text/x-python",
   "name": "python",
   "nbconvert_exporter": "python",
   "pygments_lexer": "ipython3",
   "version": "3.6.10"
  }
 },
 "nbformat": 4,
 "nbformat_minor": 4
}
