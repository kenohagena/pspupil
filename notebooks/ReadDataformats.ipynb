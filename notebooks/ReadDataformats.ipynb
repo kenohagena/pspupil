{
 "cells": [
  {
   "cell_type": "code",
   "execution_count": 8,
   "metadata": {},
   "outputs": [],
   "source": [
    "import msgpack\n",
    "import pyxdf\n",
    "import pandas as pd\n",
    "import numpy as np"
   ]
  },
  {
   "cell_type": "markdown",
   "metadata": {},
   "source": [
    "### 1. .pldata files\n"
   ]
  },
  {
   "cell_type": "code",
   "execution_count": 2,
   "metadata": {},
   "outputs": [],
   "source": [
    "def decode_data(item):\n",
    "    if isinstance(item, bytes):\n",
    "        try:\n",
    "            # Attempt to decode the bytes as UTF-8\n",
    "            return item.decode('utf-8')\n",
    "        except UnicodeDecodeError:\n",
    "            try:\n",
    "                # Attempt to unpack nested msgpack data\n",
    "                return msgpack.unpackb(item, raw=False)\n",
    "            except Exception:\n",
    "                # Return original bytes if both attempts fail\n",
    "                return item\n",
    "    elif isinstance(item, list):\n",
    "        # Recursively decode items in the list\n",
    "        return [decode_data(sub_item) for sub_item in item]\n",
    "    elif isinstance(item, dict):\n",
    "        # Recursively decode keys and values in the dictionary\n",
    "        return {decode_data(key): decode_data(value) for key, value in item.items()}\n",
    "    else:\n",
    "        # Return the item as is if it's neither bytes, list, nor dict\n",
    "        return item\n",
    "\n",
    "def load_pldata(file_path):\n",
    "    with open(file_path, 'rb') as f:\n",
    "        unpacker = msgpack.Unpacker(f, raw=False)\n",
    "        data = []\n",
    "        for unpacked in unpacker:\n",
    "            data.append(decode_data(unpacked))\n",
    "    return data\n"
   ]
  },
  {
   "cell_type": "code",
   "execution_count": 3,
   "metadata": {},
   "outputs": [],
   "source": [
    "file = '/Volumes/psp_data/PSP/data/raw/Data/sub-PSP_031/ses-S001/2021_12_03/003/gaze.pldata'\n",
    "data = load_pldata(file)"
   ]
  },
  {
   "cell_type": "markdown",
   "metadata": {},
   "source": [
    "### 2. read xdf files"
   ]
  },
  {
   "cell_type": "code",
   "execution_count": 5,
   "metadata": {},
   "outputs": [],
   "source": [
    "path1 = '/Volumes/psp_data/PSP/data/raw/Data/sub-PSP_034/ses-S001/RAW_Streams/ses-S001/sub-PSP_034_ses-S001_task-rest_001_run-003_eeg.xdf'\n",
    "streams, header = pyxdf.load_xdf(path1)"
   ]
  },
  {
   "cell_type": "code",
   "execution_count": 9,
   "metadata": {},
   "outputs": [],
   "source": [
    "# Find out which stream contains pupil data and make data to pd.DataFrame\n",
    "\n",
    "pupil_stream = streams[1]\n",
    "\n",
    "df = pd.DataFrame(pupil_stream['time_series'])\n",
    "cols = [i['label'][0] for i in pupil_stream['info']['desc'][0]['channels'][0]['channel']]\n",
    "cols = np.array(cols)\n",
    "df.columns = cols\n",
    "\n",
    "time = pd.DataFrame(pupil_stream['time_stamps'])\n",
    "df['time'] = time.iloc[:, 0].values\n",
    "df.time = df.time - df.time.values[0]\n",
    "\n",
    "df.loc[:, 'time'] = np.round(df.time * 1000)\n",
    "df = df.set_index(pd.to_datetime(df['time'], unit='ms'))"
   ]
  },
  {
   "cell_type": "code",
   "execution_count": 11,
   "metadata": {},
   "outputs": [
    {
     "data": {
      "text/plain": [
       "Index(['confidence', 'norm_pos_x', 'norm_pos_y', 'gaze_point_3d_x',\n",
       "       'gaze_point_3d_y', 'gaze_point_3d_z', 'eye_center0_3d_x',\n",
       "       'eye_center0_3d_y', 'eye_center0_3d_z', 'eye_center1_3d_x',\n",
       "       'eye_center1_3d_y', 'eye_center1_3d_z', 'gaze_normal0_x',\n",
       "       'gaze_normal0_y', 'gaze_normal0_z', 'gaze_normal1_x', 'gaze_normal1_y',\n",
       "       'gaze_normal1_z', 'diameter0_2d', 'diameter1_2d', 'diameter0_3d',\n",
       "       'diameter1_3d', 'time'],\n",
       "      dtype='object')"
      ]
     },
     "execution_count": 11,
     "metadata": {},
     "output_type": "execute_result"
    }
   ],
   "source": [
    "df.columns"
   ]
  },
  {
   "cell_type": "markdown",
   "metadata": {},
   "source": [
    "### 3. load matlab files (e.g. by molly)\n"
   ]
  },
  {
   "cell_type": "code",
   "execution_count": 12,
   "metadata": {},
   "outputs": [],
   "source": [
    "def load_new_psp(input_mat):\n",
    "    mat = scipy.io.loadmat(file)\n",
    "\n",
    "    left = pd.DataFrame({'time': mat['eye'][0][0][1][0][1][0],\n",
    "     'diameter': mat['eye'][0][0][3][0][1][0],\n",
    "     'confidence': mat['eye'][0][0][2][0][1][0],\n",
    "     'x': mat['eye'][0][0][4][0][1][0],\n",
    "     'y': mat['eye'][0][0][5][0][1][0]})\n",
    "    gaze = left.loc[:, ['time', 'confidence', 'x', 'y']].rename(columns = {'time': 'timestamp'})\n",
    "    left = left.loc[:, ['time', 'confidence', 'diameter']].rename(columns = {'time': 'timestamp'})\n",
    "    left.loc[:, 'id'] = 1\n",
    "\n",
    "    right = pd.DataFrame({'time': mat['eye'][0][0][1][0][0][0],\n",
    "     'diameter': mat['eye'][0][0][3][0][0][0],\n",
    "     'confidence': mat['eye'][0][0][2][0][0][0],\n",
    "     'x': mat['eye'][0][0][4][0][0][0],\n",
    "     'y': mat['eye'][0][0][5][0][0][0]})\n",
    "    right = right.loc[:, ['time', 'confidence', 'diameter']].rename(columns = {'time': 'timestamp'})\n",
    "    right.loc[:, 'id'] = 0\n",
    "    return gaze, right, left"
   ]
  },
  {
   "cell_type": "code",
   "execution_count": null,
   "metadata": {},
   "outputs": [],
   "source": []
  }
 ],
 "metadata": {
  "kernelspec": {
   "display_name": "Python 3",
   "language": "python",
   "name": "python3"
  },
  "language_info": {
   "codemirror_mode": {
    "name": "ipython",
    "version": 3
   },
   "file_extension": ".py",
   "mimetype": "text/x-python",
   "name": "python",
   "nbconvert_exporter": "python",
   "pygments_lexer": "ipython3",
   "version": "3.6.10"
  }
 },
 "nbformat": 4,
 "nbformat_minor": 4
}
